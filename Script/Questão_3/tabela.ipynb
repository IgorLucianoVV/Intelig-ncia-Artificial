{
 "cells": [
  {
   "cell_type": "code",
   "execution_count": null,
   "metadata": {},
   "outputs": [],
   "source": [
    "                            GA Canônico                  GA Não Canônico\n",
    "Menor aptidão                0.000012                        3.984878\n",
    "Maior aptidão               10.881209                       57.712043\n",
    "Média de aptidão             2.929507                       29.913356\n",
    "Desvio-padrão de aptidão     2.111806                       11.885220\n",
    "\n",
    "\n",
    "\n",
    "\n",
    "                           GA Canônico     GA Não Canônico\n",
    "Menor aptidão               40.369112         2.989928\n",
    "Maior aptidão              120.031901        58.707296\n",
    "Média de aptidão            75.173047        30.181994\n",
    "Desvio-padrão de aptidão    18.579799        11.803515"
   ]
  }
 ],
 "metadata": {
  "language_info": {
   "name": "python"
  }
 },
 "nbformat": 4,
 "nbformat_minor": 2
}
